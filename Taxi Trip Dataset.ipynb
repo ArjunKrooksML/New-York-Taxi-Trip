{
 "cells": [
  {
   "cell_type": "markdown",
   "id": "796d0c7f",
   "metadata": {},
   "source": [
    "Arjunaa Seshadri - Capabl Internship\n",
    "NYC Taxi Trip Duration Calculator"
   ]
  },
  {
   "cell_type": "markdown",
   "id": "1f4e944c",
   "metadata": {},
   "source": [
    "1. Importing the neccessary libraries"
   ]
  },
  {
   "cell_type": "code",
   "execution_count": 45,
   "id": "2894107f",
   "metadata": {},
   "outputs": [],
   "source": [
    "\n",
    "import pandas as pd \n",
    "import seaborn as sns\n",
    "import matplotlib.pyplot as plt\n",
    "import datetime as dt\n",
    "from sklearn.tree import DecisionTreeRegressor\n",
    "from sklearn.metrics import mean_squared_error\n",
    "from sklearn.model_selection import train_test_split\n",
    "\n",
    "from sklearn.preprocessing import StandardScaler\n",
    "import warnings; warnings.simplefilter('ignore')\n",
    "\n",
    "\n",
    "\n",
    "#ImportingTheNecessaryPackages\n"
   ]
  },
  {
   "cell_type": "code",
   "execution_count": 46,
   "id": "e6928779",
   "metadata": {},
   "outputs": [],
   "source": [
    "\n",
    "df = pd.read_csv('Train.csv')\n"
   ]
  },
  {
   "attachments": {},
   "cell_type": "markdown",
   "id": "c87fce52",
   "metadata": {},
   "source": [
    "Exploratory Data Analysis and Feature Engineering"
   ]
  },
  {
   "cell_type": "code",
   "execution_count": 47,
   "id": "782f104b",
   "metadata": {},
   "outputs": [
    {
     "name": "stdout",
     "output_type": "stream",
     "text": [
      "<class 'pandas.core.frame.DataFrame'>\n",
      "RangeIndex: 1458644 entries, 0 to 1458643\n",
      "Data columns (total 11 columns):\n",
      " #   Column              Non-Null Count    Dtype  \n",
      "---  ------              --------------    -----  \n",
      " 0   id                  1458644 non-null  object \n",
      " 1   vendor_id           1458644 non-null  int64  \n",
      " 2   pickup_datetime     1458644 non-null  object \n",
      " 3   dropoff_datetime    1458644 non-null  object \n",
      " 4   passenger_count     1458644 non-null  int64  \n",
      " 5   pickup_longitude    1458644 non-null  float64\n",
      " 6   pickup_latitude     1458644 non-null  float64\n",
      " 7   dropoff_longitude   1458644 non-null  float64\n",
      " 8   dropoff_latitude    1458644 non-null  float64\n",
      " 9   store_and_fwd_flag  1458644 non-null  object \n",
      " 10  trip_duration       1458644 non-null  int64  \n",
      "dtypes: float64(4), int64(3), object(4)\n",
      "memory usage: 122.4+ MB\n"
     ]
    }
   ],
   "source": [
    "#Structure of our Dataset\n",
    "df.info()\n",
    "\n",
    "\n"
   ]
  },
  {
   "cell_type": "code",
   "execution_count": 48,
   "id": "7f010b28",
   "metadata": {},
   "outputs": [
    {
     "data": {
      "text/html": [
       "<div>\n",
       "<style scoped>\n",
       "    .dataframe tbody tr th:only-of-type {\n",
       "        vertical-align: middle;\n",
       "    }\n",
       "\n",
       "    .dataframe tbody tr th {\n",
       "        vertical-align: top;\n",
       "    }\n",
       "\n",
       "    .dataframe thead th {\n",
       "        text-align: right;\n",
       "    }\n",
       "</style>\n",
       "<table border=\"1\" class=\"dataframe\">\n",
       "  <thead>\n",
       "    <tr style=\"text-align: right;\">\n",
       "      <th></th>\n",
       "      <th>id</th>\n",
       "      <th>vendor_id</th>\n",
       "      <th>pickup_datetime</th>\n",
       "      <th>dropoff_datetime</th>\n",
       "      <th>passenger_count</th>\n",
       "      <th>pickup_longitude</th>\n",
       "      <th>pickup_latitude</th>\n",
       "      <th>dropoff_longitude</th>\n",
       "      <th>dropoff_latitude</th>\n",
       "      <th>store_and_fwd_flag</th>\n",
       "      <th>trip_duration</th>\n",
       "    </tr>\n",
       "  </thead>\n",
       "  <tbody>\n",
       "    <tr>\n",
       "      <th>0</th>\n",
       "      <td>id2875421</td>\n",
       "      <td>2</td>\n",
       "      <td>2016-03-14 17:24:55</td>\n",
       "      <td>2016-03-14 17:32:30</td>\n",
       "      <td>1</td>\n",
       "      <td>-73.982155</td>\n",
       "      <td>40.767937</td>\n",
       "      <td>-73.964630</td>\n",
       "      <td>40.765602</td>\n",
       "      <td>N</td>\n",
       "      <td>455</td>\n",
       "    </tr>\n",
       "    <tr>\n",
       "      <th>1</th>\n",
       "      <td>id2377394</td>\n",
       "      <td>1</td>\n",
       "      <td>2016-06-12 00:43:35</td>\n",
       "      <td>2016-06-12 00:54:38</td>\n",
       "      <td>1</td>\n",
       "      <td>-73.980415</td>\n",
       "      <td>40.738564</td>\n",
       "      <td>-73.999481</td>\n",
       "      <td>40.731152</td>\n",
       "      <td>N</td>\n",
       "      <td>663</td>\n",
       "    </tr>\n",
       "    <tr>\n",
       "      <th>2</th>\n",
       "      <td>id3858529</td>\n",
       "      <td>2</td>\n",
       "      <td>2016-01-19 11:35:24</td>\n",
       "      <td>2016-01-19 12:10:48</td>\n",
       "      <td>1</td>\n",
       "      <td>-73.979027</td>\n",
       "      <td>40.763939</td>\n",
       "      <td>-74.005333</td>\n",
       "      <td>40.710087</td>\n",
       "      <td>N</td>\n",
       "      <td>2124</td>\n",
       "    </tr>\n",
       "    <tr>\n",
       "      <th>3</th>\n",
       "      <td>id3504673</td>\n",
       "      <td>2</td>\n",
       "      <td>2016-04-06 19:32:31</td>\n",
       "      <td>2016-04-06 19:39:40</td>\n",
       "      <td>1</td>\n",
       "      <td>-74.010040</td>\n",
       "      <td>40.719971</td>\n",
       "      <td>-74.012268</td>\n",
       "      <td>40.706718</td>\n",
       "      <td>N</td>\n",
       "      <td>429</td>\n",
       "    </tr>\n",
       "    <tr>\n",
       "      <th>4</th>\n",
       "      <td>id2181028</td>\n",
       "      <td>2</td>\n",
       "      <td>2016-03-26 13:30:55</td>\n",
       "      <td>2016-03-26 13:38:10</td>\n",
       "      <td>1</td>\n",
       "      <td>-73.973053</td>\n",
       "      <td>40.793209</td>\n",
       "      <td>-73.972923</td>\n",
       "      <td>40.782520</td>\n",
       "      <td>N</td>\n",
       "      <td>435</td>\n",
       "    </tr>\n",
       "  </tbody>\n",
       "</table>\n",
       "</div>"
      ],
      "text/plain": [
       "          id  vendor_id      pickup_datetime     dropoff_datetime  \\\n",
       "0  id2875421          2  2016-03-14 17:24:55  2016-03-14 17:32:30   \n",
       "1  id2377394          1  2016-06-12 00:43:35  2016-06-12 00:54:38   \n",
       "2  id3858529          2  2016-01-19 11:35:24  2016-01-19 12:10:48   \n",
       "3  id3504673          2  2016-04-06 19:32:31  2016-04-06 19:39:40   \n",
       "4  id2181028          2  2016-03-26 13:30:55  2016-03-26 13:38:10   \n",
       "\n",
       "   passenger_count  pickup_longitude  pickup_latitude  dropoff_longitude  \\\n",
       "0                1        -73.982155        40.767937         -73.964630   \n",
       "1                1        -73.980415        40.738564         -73.999481   \n",
       "2                1        -73.979027        40.763939         -74.005333   \n",
       "3                1        -74.010040        40.719971         -74.012268   \n",
       "4                1        -73.973053        40.793209         -73.972923   \n",
       "\n",
       "   dropoff_latitude store_and_fwd_flag  trip_duration  \n",
       "0         40.765602                  N            455  \n",
       "1         40.731152                  N            663  \n",
       "2         40.710087                  N           2124  \n",
       "3         40.706718                  N            429  \n",
       "4         40.782520                  N            435  "
      ]
     },
     "execution_count": 48,
     "metadata": {},
     "output_type": "execute_result"
    }
   ],
   "source": [
    "df.head()"
   ]
  },
  {
   "cell_type": "code",
   "execution_count": 49,
   "id": "b88be9a0",
   "metadata": {},
   "outputs": [
    {
     "data": {
      "text/plain": [
       "id                    0\n",
       "vendor_id             0\n",
       "pickup_datetime       0\n",
       "dropoff_datetime      0\n",
       "passenger_count       0\n",
       "pickup_longitude      0\n",
       "pickup_latitude       0\n",
       "dropoff_longitude     0\n",
       "dropoff_latitude      0\n",
       "store_and_fwd_flag    0\n",
       "trip_duration         0\n",
       "dtype: int64"
      ]
     },
     "execution_count": 49,
     "metadata": {},
     "output_type": "execute_result"
    }
   ],
   "source": [
    "#Querying to find the number of missing values in each column\n",
    "#There are no missing values in the dataset as seen with .info()\n",
    "df.isnull().sum()"
   ]
  },
  {
   "cell_type": "markdown",
   "id": "e1416787",
   "metadata": {},
   "source": [
    "Converting the datetime objects to datetime format\n",
    "\n",
    "Arranging the trip details i.e Day, Hour, Month"
   ]
  },
  {
   "cell_type": "code",
   "execution_count": 50,
   "id": "991111f0",
   "metadata": {},
   "outputs": [
    {
     "name": "stdout",
     "output_type": "stream",
     "text": [
      "<class 'pandas.core.frame.DataFrame'>\n",
      "RangeIndex: 1458644 entries, 0 to 1458643\n",
      "Data columns (total 17 columns):\n",
      " #   Column              Non-Null Count    Dtype         \n",
      "---  ------              --------------    -----         \n",
      " 0   id                  1458644 non-null  object        \n",
      " 1   vendor_id           1458644 non-null  int64         \n",
      " 2   pickup_datetime     1458644 non-null  datetime64[ns]\n",
      " 3   dropoff_datetime    1458644 non-null  datetime64[ns]\n",
      " 4   passenger_count     1458644 non-null  int64         \n",
      " 5   pickup_longitude    1458644 non-null  float64       \n",
      " 6   pickup_latitude     1458644 non-null  float64       \n",
      " 7   dropoff_longitude   1458644 non-null  float64       \n",
      " 8   dropoff_latitude    1458644 non-null  float64       \n",
      " 9   store_and_fwd_flag  1458644 non-null  object        \n",
      " 10  trip_duration       1458644 non-null  int64         \n",
      " 11  pickday             1458644 non-null  object        \n",
      " 12  ddrop               1458644 non-null  object        \n",
      " 13  hpick               1458644 non-null  int32         \n",
      " 14  drophour            1458644 non-null  int32         \n",
      " 15  pmonth              1458644 non-null  int32         \n",
      " 16  dmonth              1458644 non-null  int32         \n",
      "dtypes: datetime64[ns](2), float64(4), int32(4), int64(3), object(4)\n",
      "memory usage: 166.9+ MB\n"
     ]
    }
   ],
   "source": [
    "df['pickup_datetime']=pd.to_datetime(df['pickup_datetime'])\n",
    "df['dropoff_datetime']=pd.to_datetime(df['dropoff_datetime'])\n",
    "df['pickday']=df['pickup_datetime'].dt.day_name()\n",
    "df['ddrop']=df['dropoff_datetime'].dt.day_name()\n",
    "df['hpick']=df['pickup_datetime'].dt.hour\n",
    "df['drophour']=df['dropoff_datetime'].dt.hour\n",
    "df['pmonth']=df['pickup_datetime'].dt.month\n",
    "df['dmonth']=df['dropoff_datetime'].dt.month\n",
    "\n",
    "\n",
    "\n",
    "\n",
    "df.info()"
   ]
  },
  {
   "cell_type": "code",
   "execution_count": 51,
   "id": "d878f875",
   "metadata": {},
   "outputs": [
    {
     "data": {
      "text/plain": [
       "<Axes: ylabel='trip_duration'>"
      ]
     },
     "execution_count": 51,
     "metadata": {},
     "output_type": "execute_result"
    },
    {
     "data": {
      "image/png": "[encoded data removed]",
      "text/plain": [
       "<Figure size 432x288 with 1 Axes>"
      ]
     },
     "metadata": {
      "needs_background": "light"
     },
     "output_type": "display_data"
    }
   ],
   "source": [
    "#Trip Duration Scatter Graph\n",
    "#Some trips take less time to complete while some take more, depending our other features\n",
    "df['trip_duration'].sort_values(ascending=False)\n",
    "sns.scatterplot(df['trip_duration'])"
   ]
  },
  {
   "cell_type": "code",
   "execution_count": 52,
   "id": "800ba4ba",
   "metadata": {},
   "outputs": [
    {
     "data": {
      "text/plain": [
       "passenger_count\n",
       "1    1033540\n",
       "2     210318\n",
       "5      78088\n",
       "3      59896\n",
       "6      48333\n",
       "4      28404\n",
       "0         60\n",
       "7          3\n",
       "9          1\n",
       "8          1\n",
       "Name: count, dtype: int64"
      ]
     },
     "execution_count": 52,
     "metadata": {},
     "output_type": "execute_result"
    }
   ],
   "source": [
    "df.passenger_count.value_counts()\n"
   ]
  },
  {
   "attachments": {},
   "cell_type": "markdown",
   "id": "47eb0e7a",
   "metadata": {},
   "source": [
    "As we can see, the number of trips with 7,9,8 or 0 passengers is very different compared to the other trips with different number of passengers, we shall remove the mentioned rows to maintain the performance of our model."
   ]
  },
  {
   "cell_type": "code",
   "execution_count": 53,
   "id": "4d7ae397",
   "metadata": {},
   "outputs": [
    {
     "data": {
      "text/plain": [
       "passenger_count\n",
       "1    1033540\n",
       "2     210318\n",
       "5      78088\n",
       "3      59896\n",
       "6      48333\n",
       "4      28404\n",
       "Name: count, dtype: int64"
      ]
     },
     "execution_count": 53,
     "metadata": {},
     "output_type": "execute_result"
    }
   ],
   "source": [
    "df=df[df['passenger_count']!=0]\n",
    "df=df[df['passenger_count']<7]\n",
    "\n",
    "df.passenger_count.value_counts()\n"
   ]
  },
  {
   "attachments": {},
   "cell_type": "markdown",
   "id": "57a065c6",
   "metadata": {},
   "source": [
    "No of Trips averaged over a day, a month and an hour"
   ]
  },
  {
   "cell_type": "code",
   "execution_count": 54,
   "id": "4eecbf99",
   "metadata": {},
   "outputs": [
    {
     "data": {
      "image/png": "[encoded data removed]",
      "text/plain": [
       "<Figure size 1080x720 with 1 Axes>"
      ]
     },
     "metadata": {
      "needs_background": "light"
     },
     "output_type": "display_data"
    }
   ],
   "source": [
    "#Trips per month\n",
    "figure, ax1 = plt.subplots(ncols=1,figsize=(15,10))\n",
    "plt.title('Trips Picked Up')\n",
    "ax=sns.countplot(x=\"pmonth\",data=df,ax=ax1,color='yellow')\n"
   ]
  },
  {
   "cell_type": "code",
   "execution_count": 55,
   "id": "67e07c94",
   "metadata": {},
   "outputs": [
    {
     "data": {
      "image/png": "[encoded data removed]",
      "text/plain": [
       "<Figure size 1080x720 with 1 Axes>"
      ]
     },
     "metadata": {
      "needs_background": "light"
     },
     "output_type": "display_data"
    }
   ],
   "source": [
    "#Trips per Day\n",
    "figure, ax2 = plt.subplots(ncols=1,figsize=(15,10))\n",
    "plt.title('Trips Picked Up')\n",
    "ax=sns.countplot(x=\"pickday\",data=df,ax=ax2,color='yellow')"
   ]
  },
  {
   "cell_type": "code",
   "execution_count": 56,
   "id": "9157ccc3",
   "metadata": {},
   "outputs": [
    {
     "data": {
      "text/plain": [
       "<Axes: title={'center': 'Trips picked / hour'}, xlabel='hpick', ylabel='trip_duration'>"
      ]
     },
     "execution_count": 56,
     "metadata": {},
     "output_type": "execute_result"
    },
    {
     "data": {
      "image/png": "[encoded data removed]",
      "text/plain": [
       "<Figure size 1080x720 with 1 Axes>"
      ]
     },
     "metadata": {
      "needs_background": "light"
     },
     "output_type": "display_data"
    }
   ],
   "source": [
    "#TripDuration per hour\n",
    "figure, ax3 = plt.subplots(ncols=1,figsize=(15,10))\n",
    "plt.title('Trips picked / hour')\n",
    "sns.lineplot(x='hpick',y='trip_duration',data=df,ax=ax3,color='black')"
   ]
  },
  {
   "cell_type": "code",
   "execution_count": 57,
   "id": "5a9d92e5",
   "metadata": {},
   "outputs": [
    {
     "name": "stdout",
     "output_type": "stream",
     "text": [
      "<class 'pandas.core.frame.DataFrame'>\n",
      "Index: 1458579 entries, 0 to 1458643\n",
      "Data columns (total 17 columns):\n",
      " #   Column              Non-Null Count    Dtype         \n",
      "---  ------              --------------    -----         \n",
      " 0   id                  1458579 non-null  object        \n",
      " 1   vendor_id           1458579 non-null  int64         \n",
      " 2   pickup_datetime     1458579 non-null  datetime64[ns]\n",
      " 3   dropoff_datetime    1458579 non-null  datetime64[ns]\n",
      " 4   passenger_count     1458579 non-null  int64         \n",
      " 5   pickup_longitude    1458579 non-null  float64       \n",
      " 6   pickup_latitude     1458579 non-null  float64       \n",
      " 7   dropoff_longitude   1458579 non-null  float64       \n",
      " 8   dropoff_latitude    1458579 non-null  float64       \n",
      " 9   store_and_fwd_flag  1458579 non-null  object        \n",
      " 10  trip_duration       1458579 non-null  int64         \n",
      " 11  pickday             1458579 non-null  object        \n",
      " 12  ddrop               1458579 non-null  object        \n",
      " 13  hpick               1458579 non-null  int32         \n",
      " 14  drophour            1458579 non-null  int32         \n",
      " 15  pmonth              1458579 non-null  int32         \n",
      " 16  dmonth              1458579 non-null  int32         \n",
      "dtypes: datetime64[ns](2), float64(4), int32(4), int64(3), object(4)\n",
      "memory usage: 178.0+ MB\n"
     ]
    }
   ],
   "source": [
    "df.info()"
   ]
  },
  {
   "cell_type": "markdown",
   "id": "2defe0dc",
   "metadata": {},
   "source": [
    "Distance travelled per month, a day and an hour\n",
    "\n",
    "\n",
    "\n",
    "We have to engineer a feature 'distance' using the coordinates given to us in the dataset."
   ]
  },
  {
   "cell_type": "code",
   "execution_count": 58,
   "id": "acd02876",
   "metadata": {},
   "outputs": [],
   "source": [
    "from math import radians, sin, cos, sqrt, atan2\n",
    "\n",
    "def distance_calc(lati1, long1, lati2, long2):\n",
    "    # Degree to Radian Conversion\n",
    "    lati1, long1, lati2, long2 = map(radians, [lati1, long1, lati2, long2])\n",
    "\n",
    "    # We know that the Radius of the Earth is 6371 in km\n",
    "    R = 6371.0\n",
    "\n",
    "    \n",
    "    dlon = long2 - long1\n",
    "    dlat = lati2 - lati1\n",
    "    #Applying the Haversine Trigonometeric Equations to create the metrics and calculate the distance\n",
    "    a = sin(dlat / 2)**2 + cos(lati1) * cos(lati2) * sin(dlon / 2)**2\n",
    "    c = 2 * atan2(sqrt(a), sqrt(1 - a))\n",
    "    distance = R * c\n",
    "\n",
    "    return distance\n",
    "\n",
    "\n",
    "df['distance'] = df.apply(lambda row: distance_calc(row['pickup_latitude'], row['pickup_longitude'], row['dropoff_latitude'], row['dropoff_longitude']), axis=1)\n"
   ]
  },
  {
   "cell_type": "code",
   "execution_count": 59,
   "id": "17a6eb4d",
   "metadata": {},
   "outputs": [
    {
     "name": "stdout",
     "output_type": "stream",
     "text": [
      "<class 'pandas.core.frame.DataFrame'>\n",
      "Index: 1458579 entries, 0 to 1458643\n",
      "Data columns (total 18 columns):\n",
      " #   Column              Non-Null Count    Dtype         \n",
      "---  ------              --------------    -----         \n",
      " 0   id                  1458579 non-null  object        \n",
      " 1   vendor_id           1458579 non-null  int64         \n",
      " 2   pickup_datetime     1458579 non-null  datetime64[ns]\n",
      " 3   dropoff_datetime    1458579 non-null  datetime64[ns]\n",
      " 4   passenger_count     1458579 non-null  int64         \n",
      " 5   pickup_longitude    1458579 non-null  float64       \n",
      " 6   pickup_latitude     1458579 non-null  float64       \n",
      " 7   dropoff_longitude   1458579 non-null  float64       \n",
      " 8   dropoff_latitude    1458579 non-null  float64       \n",
      " 9   store_and_fwd_flag  1458579 non-null  object        \n",
      " 10  trip_duration       1458579 non-null  int64         \n",
      " 11  pickday             1458579 non-null  object        \n",
      " 12  ddrop               1458579 non-null  object        \n",
      " 13  hpick               1458579 non-null  int32         \n",
      " 14  drophour            1458579 non-null  int32         \n",
      " 15  pmonth              1458579 non-null  int32         \n",
      " 16  dmonth              1458579 non-null  int32         \n",
      " 17  distance            1458579 non-null  float64       \n",
      "dtypes: datetime64[ns](2), float64(5), int32(4), int64(3), object(4)\n",
      "memory usage: 189.2+ MB\n"
     ]
    }
   ],
   "source": [
    "df.info()"
   ]
  },
  {
   "cell_type": "code",
   "execution_count": 60,
   "id": "1bf2519e",
   "metadata": {},
   "outputs": [
    {
     "data": {
      "text/plain": [
       "<Axes: xlabel='pmonth', ylabel='distance'>"
      ]
     },
     "execution_count": 60,
     "metadata": {},
     "output_type": "execute_result"
    },
    {
     "data": {
      "image/png": "[encoded data removed]",
      "text/plain": [
       "<Figure size 432x288 with 1 Axes>"
      ]
     },
     "metadata": {
      "needs_background": "light"
     },
     "output_type": "display_data"
    }
   ],
   "source": [
    "#distance per month\n",
    "\n",
    "sns.lineplot(x='pmonth',y='distance',data=df,color='black')"
   ]
  },
  {
   "cell_type": "code",
   "execution_count": 61,
   "id": "9e575ee2",
   "metadata": {},
   "outputs": [
    {
     "data": {
      "text/plain": [
       "<Axes: xlabel='pickday', ylabel='distance'>"
      ]
     },
     "execution_count": 61,
     "metadata": {},
     "output_type": "execute_result"
    },
    {
     "data": {
      "image/png": "[encoded data removed]",
      "text/plain": [
       "<Figure size 432x288 with 1 Axes>"
      ]
     },
     "metadata": {
      "needs_background": "light"
     },
     "output_type": "display_data"
    }
   ],
   "source": [
    "#distance per day\n",
    "sns.lineplot(x='pickday',y='distance',data=df,color='black')"
   ]
  },
  {
   "cell_type": "markdown",
   "id": "adabb800",
   "metadata": {},
   "source": [
    "We can see that the distance travelled is at its peak on Mondays and Sundays and starts to drop off during the weekdaysa.\n"
   ]
  },
  {
   "cell_type": "markdown",
   "id": "1440da29",
   "metadata": {},
   "source": [
    "Now, Let us start with the actual prediction code and see what the SKLearn metrics say about its prediction power.\n"
   ]
  },
  {
   "cell_type": "code",
   "execution_count": 62,
   "id": "4ad9eacf",
   "metadata": {},
   "outputs": [],
   "source": [
    "#Trip Duration is our Target Variable.\n",
    "X = df.drop('trip_duration', axis=1)\n",
    "y = df['trip_duration']"
   ]
  },
  {
   "cell_type": "code",
   "execution_count": 63,
   "id": "11b92c74",
   "metadata": {},
   "outputs": [
    {
     "name": "stdout",
     "output_type": "stream",
     "text": [
      "<class 'pandas.core.frame.DataFrame'>\n",
      "Index: 1458579 entries, 0 to 1458643\n",
      "Data columns (total 18 columns):\n",
      " #   Column              Non-Null Count    Dtype         \n",
      "---  ------              --------------    -----         \n",
      " 0   id                  1458579 non-null  object        \n",
      " 1   vendor_id           1458579 non-null  int64         \n",
      " 2   pickup_datetime     1458579 non-null  datetime64[ns]\n",
      " 3   dropoff_datetime    1458579 non-null  datetime64[ns]\n",
      " 4   passenger_count     1458579 non-null  int64         \n",
      " 5   pickup_longitude    1458579 non-null  float64       \n",
      " 6   pickup_latitude     1458579 non-null  float64       \n",
      " 7   dropoff_longitude   1458579 non-null  float64       \n",
      " 8   dropoff_latitude    1458579 non-null  float64       \n",
      " 9   store_and_fwd_flag  1458579 non-null  bool          \n",
      " 10  trip_duration       1458579 non-null  int64         \n",
      " 11  pickday             1458579 non-null  object        \n",
      " 12  ddrop               1458579 non-null  object        \n",
      " 13  hpick               1458579 non-null  int32         \n",
      " 14  drophour            1458579 non-null  int32         \n",
      " 15  pmonth              1458579 non-null  int32         \n",
      " 16  dmonth              1458579 non-null  int32         \n",
      " 17  distance            1458579 non-null  float64       \n",
      "dtypes: bool(1), datetime64[ns](2), float64(5), int32(4), int64(3), object(3)\n",
      "memory usage: 179.4+ MB\n"
     ]
    }
   ],
   "source": [
    "df.store_and_fwd_flag\n",
    "df['store_and_fwd_flag'] = df['store_and_fwd_flag'].astype(bool)\n",
    "df.info()\n",
    "\n",
    "\n"
   ]
  },
  {
   "cell_type": "markdown",
   "id": "bece706b",
   "metadata": {},
   "source": [
    "I have decided to use the Decision Tree Regression Algorithm to calculate the trip duration. \n",
    "It is a good choice as the preprocessing power is pretty efficient and is suitable for larger datasets like this one. \n",
    "Decision Tree Regression is utilized for regression applications. \n",
    "In order to make it understandable and able to handle complex interactions between characteristics and the target variable, it recursively divides the data based on features to construct a tree structure and predicts the average target value in each leaf node."
   ]
  },
  {
   "cell_type": "markdown",
   "id": "e5137741",
   "metadata": {},
   "source": [
    "Predicting"
   ]
  },
  {
   "cell_type": "code",
   "execution_count": 64,
   "id": "a8cbf61f",
   "metadata": {},
   "outputs": [],
   "source": [
    "df['id'] = df['id'].str.extract(r'(\\d+)').astype(int)"
   ]
  },
  {
   "cell_type": "code",
   "execution_count": 68,
   "id": "e8aa2607",
   "metadata": {},
   "outputs": [],
   "source": [
    "X = df[['pickup_longitude', 'pickup_latitude', 'dropoff_longitude', 'dropoff_latitude']]\n",
    "y = df['trip_duration']\n",
    "\n",
    "\n",
    "#Using the Scikit Learn Model Selection module to split our dataset into train and test\n",
    "X_train, X_test, y_train, y_test = train_test_split(X, y, test_size=0.2, random_state=42)\n",
    "\n",
    "dtr_model = DecisionTreeRegressor(random_state=42)\n",
    "dtr_model.fit(X_train, y_train)\n",
    "\n",
    "tripdone = dtr_model.predict(X_test)\n",
    "\n",
    "predictions = pd.DataFrame({'Actual': y_test, 'Predicted': tripdone})\n"
   ]
  },
  {
   "cell_type": "code",
   "execution_count": 70,
   "id": "f1d8e4c2",
   "metadata": {},
   "outputs": [
    {
     "data": {
      "text/html": [
       "<div>\n",
       "<style scoped>\n",
       "    .dataframe tbody tr th:only-of-type {\n",
       "        vertical-align: middle;\n",
       "    }\n",
       "\n",
       "    .dataframe tbody tr th {\n",
       "        vertical-align: top;\n",
       "    }\n",
       "\n",
       "    .dataframe thead th {\n",
       "        text-align: right;\n",
       "    }\n",
       "</style>\n",
       "<table border=\"1\" class=\"dataframe\">\n",
       "  <thead>\n",
       "    <tr style=\"text-align: right;\">\n",
       "      <th></th>\n",
       "      <th>Actual</th>\n",
       "      <th>Predicted</th>\n",
       "    </tr>\n",
       "  </thead>\n",
       "  <tbody>\n",
       "    <tr>\n",
       "      <th>1456389</th>\n",
       "      <td>222</td>\n",
       "      <td>229.0</td>\n",
       "    </tr>\n",
       "    <tr>\n",
       "      <th>1412063</th>\n",
       "      <td>485</td>\n",
       "      <td>984.0</td>\n",
       "    </tr>\n",
       "    <tr>\n",
       "      <th>374891</th>\n",
       "      <td>293</td>\n",
       "      <td>903.0</td>\n",
       "    </tr>\n",
       "    <tr>\n",
       "      <th>774757</th>\n",
       "      <td>450</td>\n",
       "      <td>343.0</td>\n",
       "    </tr>\n",
       "    <tr>\n",
       "      <th>475482</th>\n",
       "      <td>197</td>\n",
       "      <td>204.0</td>\n",
       "    </tr>\n",
       "    <tr>\n",
       "      <th>...</th>\n",
       "      <td>...</td>\n",
       "      <td>...</td>\n",
       "    </tr>\n",
       "    <tr>\n",
       "      <th>401655</th>\n",
       "      <td>968</td>\n",
       "      <td>1870.0</td>\n",
       "    </tr>\n",
       "    <tr>\n",
       "      <th>562082</th>\n",
       "      <td>602</td>\n",
       "      <td>575.0</td>\n",
       "    </tr>\n",
       "    <tr>\n",
       "      <th>952246</th>\n",
       "      <td>1818</td>\n",
       "      <td>1827.0</td>\n",
       "    </tr>\n",
       "    <tr>\n",
       "      <th>1002306</th>\n",
       "      <td>897</td>\n",
       "      <td>1018.0</td>\n",
       "    </tr>\n",
       "    <tr>\n",
       "      <th>1317822</th>\n",
       "      <td>1661</td>\n",
       "      <td>1586.0</td>\n",
       "    </tr>\n",
       "  </tbody>\n",
       "</table>\n",
       "<p>291716 rows × 2 columns</p>\n",
       "</div>"
      ],
      "text/plain": [
       "         Actual  Predicted\n",
       "1456389     222      229.0\n",
       "1412063     485      984.0\n",
       "374891      293      903.0\n",
       "774757      450      343.0\n",
       "475482      197      204.0\n",
       "...         ...        ...\n",
       "401655      968     1870.0\n",
       "562082      602      575.0\n",
       "952246     1818     1827.0\n",
       "1002306     897     1018.0\n",
       "1317822    1661     1586.0\n",
       "\n",
       "[291716 rows x 2 columns]"
      ]
     },
     "execution_count": 70,
     "metadata": {},
     "output_type": "execute_result"
    }
   ],
   "source": [
    "predictions"
   ]
  },
  {
   "cell_type": "markdown",
   "id": "7ea38ec9",
   "metadata": {},
   "source": [
    "Root Mean Square Error"
   ]
  },
  {
   "cell_type": "code",
   "execution_count": 73,
   "id": "b2f3e7f4",
   "metadata": {},
   "outputs": [
    {
     "name": "stdout",
     "output_type": "stream",
     "text": [
      "The Root Mean Squared Error (RMSE) for our Model would be :  5819.0586194615835\n"
     ]
    }
   ],
   "source": [
    "rmse = mean_squared_error(y_test, tripdone, squared=False)\n",
    "print(\"The Root Mean Squared Error (RMSE) for our Model would be : \",rmse)"
   ]
  }
 ],
 "metadata": {
  "kernelspec": {
   "display_name": "Python 3 (ipykernel)",
   "language": "python",
   "name": "python3"
  },
  "language_info": {
   "codemirror_mode": {
    "name": "ipython",
    "version": 3
   },
   "file_extension": ".py",
   "mimetype": "text/x-python",
   "name": "python",
   "nbconvert_exporter": "python",
   "pygments_lexer": "ipython3",
   "version": "3.10.5"
  },
  "vscode": {
   "interpreter": {
    "hash": "b240666498e9498666eb6fb2c95e9f9c4031eec7c705fc94d5d7a5c98925c74d"
   }
  }
 },
 "nbformat": 4,
 "nbformat_minor": 5
}
